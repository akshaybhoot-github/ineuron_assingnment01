{
 "cells": [
  {
   "cell_type": "code",
   "execution_count": null,
   "id": "36511392",
   "metadata": {},
   "outputs": [],
   "source": [
    "\"\"\"ANS:-01----------------------\n",
    "FUNCTIONS ARE THE MOST IMPORTANT PART OF ANY PROGRAMMING LANGUAGE THATS MAKE OUR WORK MUCH MORE EASIRE.FUNCTION IS USED FOR \n",
    "REUSUABILITY OF CODE AGAIN AND AGAIN as an example----\n",
    "\n",
    "def add(x,y):\n",
    "    return x+y\"\"\""
   ]
  },
  {
   "cell_type": "code",
   "execution_count": null,
   "id": "da20c2ac",
   "metadata": {},
   "outputs": [],
   "source": [
    "\"\"\"ANS:-02-----------\n",
    "when we have to perform a task mulyiple time  and for similikar kind of work \n",
    "we have to write code again and again we use function we creat function and \n",
    "we called function again and again to perform similar work\n",
    "again and again\"\"\""
   ]
  },
  {
   "cell_type": "code",
   "execution_count": null,
   "id": "e6c81bc7",
   "metadata": {},
   "outputs": [],
   "source": [
    "\"\"\"ANS:-03-----------------------\n",
    "creation of function is easy ----\n",
    "(def is keyword used to create the function)\n",
    "\n",
    "def(function_name)(function signed passing argument):\n",
    "          return (body/or operation to perform byfunction)\n",
    "we must have to passing same no. of value that we passed or mentioned in agrument\"\"\""
   ]
  },
  {
   "cell_type": "code",
   "execution_count": null,
   "id": "1d151fc7",
   "metadata": {},
   "outputs": [],
   "source": [
    "\"\"\"ANS:-04---------\n",
    "function and function call is different things. function is creation \n",
    "of piece of code that we make with operational body,function_name,agruments but to\n",
    "call or use this function or implementing this piece of code or to use this \n",
    "created function we have to call it function is body or piece of code,to \n",
    "calling that piece of code known as function \n",
    "-----function------\n",
    "def add(x,y):\n",
    "    return x+y\n",
    "-----function call------\n",
    "add(25,10)\n",
    "\"\"\""
   ]
  },
  {
   "cell_type": "code",
   "execution_count": null,
   "id": "72e5bc1f",
   "metadata": {},
   "outputs": [],
   "source": [
    "\"\"\"ANS:-05---------\n",
    "THERE ARE TWO TYPES OF SCOPE ---\n",
    "LOCAL SCOPE\n",
    "GLOBAL SCOPE\n",
    "LOCAL SCOPE----A variable created inside a function belongs to the local scope \n",
    "of that functionand can only be used inside that function\n",
    "\n",
    "GLOBAL SCOPE---A variable created in the main body of the Python code is a \n",
    "global variable and belongs to the global scope.\n",
    "Global variables are available from within any scope, global and local\"\"\""
   ]
  },
  {
   "cell_type": "code",
   "execution_count": null,
   "id": "859c843c",
   "metadata": {},
   "outputs": [],
   "source": [
    "\"\"\"ANS:-06---------\n",
    "WHEN FUNCTION CALL RETURN IT RETURNS THE LOCAL VARIABLE BECOZ INSIDE THE FUNCTION\n",
    "\"\"\""
   ]
  },
  {
   "cell_type": "code",
   "execution_count": null,
   "id": "67b21b06",
   "metadata": {},
   "outputs": [],
   "source": [
    "\"\"\"ANS:-07---------\n",
    "Return is keyword that is used as outcomes of output it  give us output with a \n",
    "valid data type if we use print in place of return it gives result with no datatype and create\n",
    "issue in further operation...\n",
    "def add(x,y):\n",
    "   print(\"result of addition is\",add)\n",
    "   ---> output of addition\n",
    "   but if we try to [100+add] its gives error print no gives any datatype----------\n",
    "   \n",
    "def add(x,y):\n",
    "   return add\n",
    "   ---> output of addition\n",
    "   but if we try to [100+add] its works correctly with correct data type----------\n",
    "\"\"\""
   ]
  },
  {
   "cell_type": "code",
   "execution_count": null,
   "id": "00420fdd",
   "metadata": {},
   "outputs": [],
   "source": [
    "\"\"\"ANS:-08---------\n",
    "if the fuction has not return value after call its gives us error or \n",
    "none result shown on output consolebecoz passing argument has necessary to \n",
    "feed,at last if the return statement is not available than print also gives \n",
    "result but create issue in further operation if return and print both not \n",
    "available than its gives surely error.\n",
    "\"\"\""
   ]
  },
  {
   "cell_type": "code",
   "execution_count": null,
   "id": "dc284208",
   "metadata": {},
   "outputs": [],
   "source": [
    "\"\"\"ANS:-09----------------\n",
    "If you want to refer to a global variable in a function, you can use the global keyword \n",
    "to declare which variables are global\"\"\""
   ]
  },
  {
   "cell_type": "code",
   "execution_count": null,
   "id": "67d74687",
   "metadata": {},
   "outputs": [],
   "source": [
    "\"\"\"ANS:-10----------------\n",
    "NONE data type shows the null value or it is similar to the false(zero(0)) none\n",
    "is a data type of its none type\n",
    "\"\"\""
   ]
  },
  {
   "cell_type": "code",
   "execution_count": null,
   "id": "d7ff14c3",
   "metadata": {},
   "outputs": [],
   "source": [
    "\"\"\"ANS:-11----------------\n",
    "That import statement imports a module named areallyourpetsnamederic. the import helps to import \n",
    "library,packages also like numpy,pandas etc...\n",
    "\"\"\""
   ]
  },
  {
   "cell_type": "code",
   "execution_count": null,
   "id": "88505000",
   "metadata": {},
   "outputs": [],
   "source": [
    "\"\"\"ANS:-12------------\n",
    "This function can be called with spam.bacon(). WE HAVE TO USE\"\"\""
   ]
  },
  {
   "cell_type": "code",
   "execution_count": null,
   "id": "58ad8b1a",
   "metadata": {},
   "outputs": [],
   "source": [
    "\"\"\"ANS:-13------------\n",
    "We can use error handling technics to save our program from error or crashing\"\"\""
   ]
  },
  {
   "cell_type": "code",
   "execution_count": null,
   "id": "adf056b3",
   "metadata": {},
   "outputs": [],
   "source": [
    "\"\"\"ANS:-14------------\n",
    "try clause is used to try thye piece of code to execute or run  if the error is occure\n",
    "except clasue handle the error and help in show the message and continoue the program\n",
    "without crashing and stopping it.\"\"\""
   ]
  }
 ],
 "metadata": {
  "kernelspec": {
   "display_name": "Python 3",
   "language": "python",
   "name": "python3"
  },
  "language_info": {
   "codemirror_mode": {
    "name": "ipython",
    "version": 3
   },
   "file_extension": ".py",
   "mimetype": "text/x-python",
   "name": "python",
   "nbconvert_exporter": "python",
   "pygments_lexer": "ipython3",
   "version": "3.8.8"
  }
 },
 "nbformat": 4,
 "nbformat_minor": 5
}
